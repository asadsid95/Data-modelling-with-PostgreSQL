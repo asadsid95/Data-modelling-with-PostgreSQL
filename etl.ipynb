{
 "cells": [
  {
   "cell_type": "markdown",
   "metadata": {
    "editable": true
   },
   "source": [
    "# ETL Processes\n",
    "Use this notebook to develop the ETL process for each of your tables before completing the `etl.py` file to load the whole datasets."
   ]
  },
  {
   "source": [
    "import os\n",
    "import glob\n",
    "import psycopg2\n",
    "import pandas as pd\n",
    "from sql_queries import *\n",
    "\n",
    "import json"
   ],
   "cell_type": "code",
   "metadata": {
    "editable": true
   },
   "execution_count": 1,
   "outputs": []
  },
  {
   "source": [
    "conn = psycopg2.connect(\"host=127.0.0.1 dbname=sparkifydb user=student password=student\")\n",
    "cur = conn.cursor()"
   ],
   "cell_type": "code",
   "metadata": {
    "editable": true
   },
   "execution_count": null,
   "outputs": []
  },
  {
   "source": [
    "def get_files(filepath):\n",
    "    all_files = []\n",
    "    for root, dirs, files in os.walk(filepath):\n",
    "        files = glob.glob(os.path.join(root,'*.json'))\n",
    "        for f in files :\n",
    "            all_files.append(os.path.abspath(f))\n",
    "    \n",
    "    return all_files"
   ],
   "cell_type": "code",
   "metadata": {
    "editable": true
   },
   "execution_count": 2,
   "outputs": []
  },
  {
   "cell_type": "markdown",
   "metadata": {
    "editable": true
   },
   "source": [
    "# Process `song_data`\n",
    "In this first part, you'll perform ETL on the first dataset, `song_data`, to create the `songs` and `artists` dimensional tables.\n",
    "\n",
    "Let's perform ETL on a single song file and load a single record into each table to start.\n",
    "- Use the `get_files` function provided above to get a list of all song JSON files in `data/song_data`\n",
    "- Select the first song in this list\n",
    "- Read the song file and view the data"
   ]
  },
  {
   "cell_type": "code",
   "execution_count": 3,
   "metadata": {
    "editable": true
   },
   "outputs": [],
   "source": [
    "song_files = get_files(\"data/song_data\")"
   ]
  },
  {
   "cell_type": "code",
   "execution_count": 4,
   "metadata": {
    "editable": true
   },
   "outputs": [
    {
     "output_type": "stream",
     "name": "stdout",
     "text": [
      "c:\\Users\\Asad Siddiqui\\Desktop\\Project 1\\Project-1\\data\\song_data\\A\\A\\A\\TRAAAAW128F429D538.json\n"
     ]
    }
   ],
   "source": [
    "# print(type(song_files))\n",
    "filepath = song_files[0] # This uses the first song file only\n",
    "print(filepath)"
   ]
  },
  {
   "cell_type": "code",
   "execution_count": 14,
   "metadata": {},
   "outputs": [
    {
     "output_type": "stream",
     "name": "stdout",
     "text": [
      "{\"num_songs\": 1, \"artist_id\": \"ARD7TVE1187B99BFB1\", \"artist_latitude\": null, \"artist_longitude\": null, \"artist_location\": \"California - LA\", \"artist_name\": \"Casual\", \"song_id\": \"SOMZWCG12A8C13C480\", \"title\": \"I Didn't Mean To\", \"duration\": 218.93179, \"year\": 0}\n{'num_songs': 1, 'artist_id': 'ARD7TVE1187B99BFB1', 'artist_latitude': None, 'artist_longitude': None, 'artist_location': 'California - LA', 'artist_name': 'Casual', 'song_id': 'SOMZWCG12A8C13C480', 'title': \"I Didn't Mean To\", 'duration': 218.93179, 'year': 0}\n"
     ]
    }
   ],
   "source": [
    "with open(filepath, 'r') as f:\n",
    "    first_record = f.read()\n",
    "    print (first_record)\n",
    "\n",
    "    dictioned = json.loads(first_record)\n",
    "    print(dictioned)\n",
    "\n",
    "    \n"
   ]
  },
  {
   "cell_type": "code",
   "execution_count": 35,
   "metadata": {
    "editable": true
   },
   "outputs": [
    {
     "output_type": "stream",
     "name": "stdout",
     "text": [
      "              song_id             title           artist_id  year   duration\n0  SOMZWCG12A8C13C480  I Didn't Mean To  ARD7TVE1187B99BFB1     0  218.93179\n[['SOMZWCG12A8C13C480' \"I Didn't Mean To\" 'ARD7TVE1187B99BFB1' 0\n  218.93179]]\n[['SOMZWCG12A8C13C480', \"I Didn't Mean To\", 'ARD7TVE1187B99BFB1', 0, 218.93179]]\n"
     ]
    }
   ],
   "source": [
    "df = pd.DataFrame([dictioned])\n",
    "#print(df)\n",
    "\n",
    "df_songs_col = df[['song_id', 'title', 'artist_id', 'year', 'duration']]\n",
    "print(df_songs_col) # Produces Dataframe containing on values of song file (potentially, all song files as .head() has not been used)\n",
    "\n",
    "print(df_songs_col.values) # Produces a NumPy ndarray\n",
    "\n",
    "song_data = df_songs_col.values.tolist() # Produces a list\n",
    "\n",
    "print(song_data)"
   ]
  },
  {
   "cell_type": "markdown",
   "metadata": {
    "editable": true
   },
   "source": [
    "## #1: `songs` Table\n",
    "#### Extract Data for Songs Table\n",
    "- Select columns for song ID, title, artist ID, year, and duration\n",
    "- Use `df.values` to select just the values from the dataframe\n",
    "- Index to select the first (only) record in the dataframe\n",
    "- Convert the array to a list and set it to `song_data`"
   ]
  },
  {
   "source": [
    "#-------------\n",
    "song_data = df_songs_col.head(1).values.tolist()\n",
    "song_data\n",
    "#------------- \n",
    "print(type(song_data))"
   ],
   "cell_type": "code",
   "metadata": {
    "editable": true
   },
   "execution_count": 36,
   "outputs": [
    {
     "output_type": "stream",
     "name": "stdout",
     "text": [
      "<class 'list'>\n"
     ]
    }
   ]
  },
  {
   "cell_type": "markdown",
   "metadata": {
    "editable": true
   },
   "source": [
    "#### Insert Record into Song Table\n",
    "Implement the `song_table_insert` query in `sql_queries.py` and run the cell below to insert a record for this song into the `songs` table. Remember to run `create_tables.py` before running the cell below to ensure you've created/resetted the `songs` table in the sparkify database."
   ]
  },
  {
   "cell_type": "code",
   "execution_count": null,
   "metadata": {
    "editable": true
   },
   "outputs": [],
   "source": [
    "#******** Yet to test 'adding of record to songs table' *****\n",
    "\n",
    "cur.execute(song_table_insert, song_data)\n",
    "conn.commit()"
   ]
  },
  {
   "cell_type": "markdown",
   "metadata": {
    "editable": true
   },
   "source": [
    "Run `test.ipynb` to see if you've successfully added a record to this table."
   ]
  },
  {
   "cell_type": "markdown",
   "metadata": {
    "editable": true
   },
   "source": [
    "## #2: `artists` Table\n",
    "#### Extract Data for Artists Table\n",
    "- Select columns for artist ID, name, location, latitude, and longitude\n",
    "- Use `df.values` to select just the values from the dataframe\n",
    "- Index to select the first (only) record in the dataframe\n",
    "- Convert the array to a list and set it to `artist_data`"
   ]
  },
  {
   "cell_type": "code",
   "execution_count": 47,
   "metadata": {
    "editable": true
   },
   "outputs": [
    {
     "output_type": "stream",
     "name": "stdout",
     "text": [
      "            artist_id artist_name  artist_location artist_latitude  \\\n0  ARD7TVE1187B99BFB1      Casual  California - LA            None   \n\n  artist_longitude  \n0             None  \n"
     ]
    },
    {
     "output_type": "execute_result",
     "data": {
      "text/plain": [
       "[['ARD7TVE1187B99BFB1', 'Casual', 'California - LA', None, None]]"
      ]
     },
     "metadata": {},
     "execution_count": 47
    }
   ],
   "source": [
    "df_artist_attri = df[['artist_id', 'artist_name', 'artist_location', 'artist_latitude', 'artist_longitude']]\n",
    "# Shows specified columns and their values\n",
    "print(df_artist_attri)\n",
    "#first_song = df_artist_attri.head(1)\n",
    "\n",
    "values_of_first = df_artist_attri.values.tolist()\n",
    "\n",
    "# ------------\n",
    "artist_data = values_of_first\n",
    "artist_data\n",
    "# ------------"
   ]
  },
  {
   "cell_type": "markdown",
   "metadata": {
    "editable": true
   },
   "source": [
    "#### Insert Record into Artist Table\n",
    "Implement the `artist_table_insert` query in `sql_queries.py` and run the cell below to insert a record for this song's artist into the `artists` table. Remember to run `create_tables.py` before running the cell below to ensure you've created/resetted the `artists` table in the sparkify database."
   ]
  },
  {
   "cell_type": "code",
   "execution_count": null,
   "metadata": {
    "editable": true
   },
   "outputs": [],
   "source": [
    "#-------- Yet to test 'adding of record to artists table \n",
    "\n",
    "cur.execute(artist_table_insert, artist_data)\n",
    "conn.commit()"
   ]
  },
  {
   "cell_type": "markdown",
   "metadata": {
    "editable": true
   },
   "source": [
    "Run `test.ipynb` to see if you've successfully added a record to this table."
   ]
  },
  {
   "cell_type": "markdown",
   "metadata": {
    "editable": true
   },
   "source": [
    "# Process `log_data`\n",
    "In this part, you'll perform ETL on the second dataset, `log_data`, to create the `time` and `users` dimensional tables, as well as the `songplays` fact table.\n",
    "\n",
    "Let's perform ETL on a single log file and load a single record into each table.\n",
    "- Use the `get_files` function provided above to get a list of all log JSON files in `data/log_data`\n",
    "- Select the first log file in this list\n",
    "- Read the log file and view the data"
   ]
  },
  {
   "cell_type": "code",
   "execution_count": 48,
   "metadata": {
    "editable": true
   },
   "outputs": [],
   "source": [
    "log_files = get_files(\"data/log_data\")"
   ]
  },
  {
   "cell_type": "code",
   "execution_count": 51,
   "metadata": {
    "editable": true
   },
   "outputs": [
    {
     "output_type": "stream",
     "name": "stdout",
     "text": [
      "<class 'str'>\n"
     ]
    }
   ],
   "source": [
    "filepath = log_files[0]\n",
    "print(type(filepath))"
   ]
  },
  {
   "cell_type": "code",
   "execution_count": 71,
   "metadata": {
    "editable": true
   },
   "outputs": [
    {
     "output_type": "stream",
     "name": "stdout",
     "text": [
      "<class 'str'>\n{\n    \"artist\": null,\n    \"auth\": \"Logged In\",\n    \"firstName\": \"Walter\",\n    \"gender\": \"M\",\n    \"itemInSession\": 0,\n    \"lastName\": \"Frye\",\n    \"length\": null,\n    \"level\": \"free\",\n    \"location\": \"San Francisco-Oakland-Hayward, CA\",\n    \"method\": \"GET\",\n    \"page\": \"Home\",\n    \"registration\": 1540919166796.0,\n    \"sessionId\": 38,\n    \"song\": null,\n    \"status\": 200,\n    \"ts\": 1541105830796,\n    \"userAgent\": \"\\\"Mozilla\\/5.0 (Macintosh; Intel Mac OS X 10_9_4) AppleWebKit\\/537.36 (KHTML, like Gecko) Chrome\\/36.0.1985.143 Safari\\/537.36\\\"\",\n    \"userId\": \"39\"\n}\n{\n    \"artist\": null,\n    \"auth\": \"Logged In\",\n    \"firstName\": \"Kaylee\",\n    \"gender\": \"F\",\n    \"itemInSession\": 0,\n    \"lastName\": \"Summers\",\n    \"length\": null,\n    \"level\": \"free\",\n    \"location\": \"Phoenix-Mesa-Scottsdale, AZ\",\n    \"method\": \"GET\",\n    \"page\": \"Home\",\n    \"registration\": 1540344794796.0,\n    \"sessionId\": 139,\n    \"song\": null,\n    \"status\": 200,\n    \"ts\": 1541106106796,\n    \"userAgent\": \"\\\"Mozilla\\/5.0 (Windows NT 6.1; WOW64) AppleWebKit\\/537.36 (KHTML, like Gecko) Chrome\\/35.0.1916.153 Safari\\/537.36\\\"\",\n    \"userId\": \"8\"\n}\n{\n    \"artist\": \"Des'ree\",\n    \"auth\": \"Logged In\",\n    \"firstName\": \"Kaylee\",\n    \"gender\": \"F\",\n    \"itemInSession\": 1,\n    \"lastName\": \"Summers\",\n    \"length\": 246.30812,\n    \"level\": \"free\",\n    \"location\": \"Phoenix-Mesa-Scottsdale, AZ\",\n    \"method\": \"PUT\",\n    \"page\": \"NextSong\",\n    \"registration\": 1540344794796.0,\n    \"sessionId\": 139,\n    \"song\": \"You Gotta Be\",\n    \"status\": 200,\n    \"ts\": 1541106106796,\n    \"userAgent\": \"\\\"Mozilla\\/5.0 (Windows NT 6.1; WOW64) AppleWebKit\\/537.36 (KHTML, like Gecko) Chrome\\/35.0.1916.153 Safari\\/537.36\\\"\",\n    \"userId\": \"8\"\n}\n{\n    \"artist\": null,\n    \"auth\": \"Logged In\",\n    \"firstName\": \"Kaylee\",\n    \"gender\": \"F\",\n    \"itemInSession\": 2,\n    \"lastName\": \"Summers\",\n    \"length\": null,\n    \"level\": \"free\",\n    \"location\": \"Phoenix-Mesa-Scottsdale, AZ\",\n    \"method\": \"GET\",\n    \"page\": \"Upgrade\",\n    \"registration\": 1540344794796.0,\n    \"sessionId\": 139,\n    \"song\": null,\n    \"status\": 200,\n    \"ts\": 1541106132796,\n    \"userAgent\": \"\\\"Mozilla\\/5.0 (Windows NT 6.1; WOW64) AppleWebKit\\/537.36 (KHTML, like Gecko) Chrome\\/35.0.1916.153 Safari\\/537.36\\\"\",\n    \"userId\": \"8\"\n}\n{\n    \"artist\": \"Mr Oizo\",\n    \"auth\": \"Logged In\",\n    \"firstName\": \"Kaylee\",\n    \"gender\": \"F\",\n    \"itemInSession\": 3,\n    \"lastName\": \"Summers\",\n    \"length\": 144.03873,\n    \"level\": \"free\",\n    \"location\": \"Phoenix-Mesa-Scottsdale, AZ\",\n    \"method\": \"PUT\",\n    \"page\": \"NextSong\",\n    \"registration\": 1540344794796.0,\n    \"sessionId\": 139,\n    \"song\": \"Flat 55\",\n    \"status\": 200,\n    \"ts\": 1541106352796,\n    \"userAgent\": \"\\\"Mozilla\\/5.0 (Windows NT 6.1; WOW64) AppleWebKit\\/537.36 (KHTML, like Gecko) Chrome\\/35.0.1916.153 Safari\\/537.36\\\"\",\n    \"userId\": \"8\"\n}\n{\n    \"artist\": \"Tamba Trio\",\n    \"auth\": \"Logged In\",\n    \"firstName\": \"Kaylee\",\n    \"gender\": \"F\",\n    \"itemInSession\": 4,\n    \"lastName\": \"Summers\",\n    \"length\": 177.18812,\n    \"level\": \"free\",\n    \"location\": \"Phoenix-Mesa-Scottsdale, AZ\",\n    \"method\": \"PUT\",\n    \"page\": \"NextSong\",\n    \"registration\": 1540344794796.0,\n    \"sessionId\": 139,\n    \"song\": \"Quem Quiser Encontrar O Amor\",\n    \"status\": 200,\n    \"ts\": 1541106496796,\n    \"userAgent\": \"\\\"Mozilla\\/5.0 (Windows NT 6.1; WOW64) AppleWebKit\\/537.36 (KHTML, like Gecko) Chrome\\/35.0.1916.153 Safari\\/537.36\\\"\",\n    \"userId\": \"8\"\n}\n{\n    \"artist\": \"The Mars Volta\",\n    \"auth\": \"Logged In\",\n    \"firstName\": \"Kaylee\",\n    \"gender\": \"F\",\n    \"itemInSession\": 5,\n    \"lastName\": \"Summers\",\n    \"length\": 380.42077,\n    \"level\": \"free\",\n    \"location\": \"Phoenix-Mesa-Scottsdale, AZ\",\n    \"method\": \"PUT\",\n    \"page\": \"NextSong\",\n    \"registration\": 1540344794796.0,\n    \"sessionId\": 139,\n    \"song\": \"Eriatarka\",\n    \"status\": 200,\n    \"ts\": 1541106673796,\n    \"userAgent\": \"\\\"Mozilla\\/5.0 (Windows NT 6.1; WOW64) AppleWebKit\\/537.36 (KHTML, like Gecko) Chrome\\/35.0.1916.153 Safari\\/537.36\\\"\",\n    \"userId\": \"8\"\n}\n{\n    \"artist\": \"Infected Mushroom\",\n    \"auth\": \"Logged In\",\n    \"firstName\": \"Kaylee\",\n    \"gender\": \"F\",\n    \"itemInSession\": 6,\n    \"lastName\": \"Summers\",\n    \"length\": 440.2673,\n    \"level\": \"free\",\n    \"location\": \"Phoenix-Mesa-Scottsdale, AZ\",\n    \"method\": \"PUT\",\n    \"page\": \"NextSong\",\n    \"registration\": 1540344794796.0,\n    \"sessionId\": 139,\n    \"song\": \"Becoming Insane\",\n    \"status\": 200,\n    \"ts\": 1541107053796,\n    \"userAgent\": \"\\\"Mozilla\\/5.0 (Windows NT 6.1; WOW64) AppleWebKit\\/537.36 (KHTML, like Gecko) Chrome\\/35.0.1916.153 Safari\\/537.36\\\"\",\n    \"userId\": \"8\"\n}\n{\n    \"artist\": \"Blue October \\/ Imogen Heap\",\n    \"auth\": \"Logged In\",\n    \"firstName\": \"Kaylee\",\n    \"gender\": \"F\",\n    \"itemInSession\": 7,\n    \"lastName\": \"Summers\",\n    \"length\": 241.3971,\n    \"level\": \"free\",\n    \"location\": \"Phoenix-Mesa-Scottsdale, AZ\",\n    \"method\": \"PUT\",\n    \"page\": \"NextSong\",\n    \"registration\": 1540344794796.0,\n    \"sessionId\": 139,\n    \"song\": \"Congratulations\",\n    \"status\": 200,\n    \"ts\": 1541107493796,\n    \"userAgent\": \"\\\"Mozilla\\/5.0 (Windows NT 6.1; WOW64) AppleWebKit\\/537.36 (KHTML, like Gecko) Chrome\\/35.0.1916.153 Safari\\/537.36\\\"\",\n    \"userId\": \"8\"\n}\n{\n    \"artist\": \"Girl Talk\",\n    \"auth\": \"Logged In\",\n    \"firstName\": \"Kaylee\",\n    \"gender\": \"F\",\n    \"itemInSession\": 8,\n    \"lastName\": \"Summers\",\n    \"length\": 160.15628,\n    \"level\": \"free\",\n    \"location\": \"Phoenix-Mesa-Scottsdale, AZ\",\n    \"method\": \"PUT\",\n    \"page\": \"NextSong\",\n    \"registration\": 1540344794796.0,\n    \"sessionId\": 139,\n    \"song\": \"Once again\",\n    \"status\": 200,\n    \"ts\": 1541107734796,\n    \"userAgent\": \"\\\"Mozilla\\/5.0 (Windows NT 6.1; WOW64) AppleWebKit\\/537.36 (KHTML, like Gecko) Chrome\\/35.0.1916.153 Safari\\/537.36\\\"\",\n    \"userId\": \"8\"\n}\n{\n    \"artist\": \"Black Eyed Peas\",\n    \"auth\": \"Logged In\",\n    \"firstName\": \"Sylvie\",\n    \"gender\": \"F\",\n    \"itemInSession\": 0,\n    \"lastName\": \"Cruz\",\n    \"length\": 214.93506,\n    \"level\": \"free\",\n    \"location\": \"Washington-Arlington-Alexandria, DC-VA-MD-WV\",\n    \"method\": \"PUT\",\n    \"page\": \"NextSong\",\n    \"registration\": 1540266185796.0,\n    \"sessionId\": 9,\n    \"song\": \"Pump It\",\n    \"status\": 200,\n    \"ts\": 1541108520796,\n    \"userAgent\": \"\\\"Mozilla\\/5.0 (Macintosh; Intel Mac OS X 10_9_4) AppleWebKit\\/537.77.4 (KHTML, like Gecko) Version\\/7.0.5 Safari\\/537.77.4\\\"\",\n    \"userId\": \"10\"\n}\n{\n    \"artist\": null,\n    \"auth\": \"Logged In\",\n    \"firstName\": \"Ryan\",\n    \"gender\": \"M\",\n    \"itemInSession\": 0,\n    \"lastName\": \"Smith\",\n    \"length\": null,\n    \"level\": \"free\",\n    \"location\": \"San Jose-Sunnyvale-Santa Clara, CA\",\n    \"method\": \"GET\",\n    \"page\": \"Home\",\n    \"registration\": 1541016707796.0,\n    \"sessionId\": 169,\n    \"song\": null,\n    \"status\": 200,\n    \"ts\": 1541109015796,\n    \"userAgent\": \"\\\"Mozilla\\/5.0 (X11; Linux x86_64) AppleWebKit\\/537.36 (KHTML, like Gecko) Ubuntu Chromium\\/36.0.1985.125 Chrome\\/36.0.1985.125 Safari\\/537.36\\\"\",\n    \"userId\": \"26\"\n}\n{\n    \"artist\": \"Fall Out Boy\",\n    \"auth\": \"Logged In\",\n    \"firstName\": \"Ryan\",\n    \"gender\": \"M\",\n    \"itemInSession\": 1,\n    \"lastName\": \"Smith\",\n    \"length\": 200.72444,\n    \"level\": \"free\",\n    \"location\": \"San Jose-Sunnyvale-Santa Clara, CA\",\n    \"method\": \"PUT\",\n    \"page\": \"NextSong\",\n    \"registration\": 1541016707796.0,\n    \"sessionId\": 169,\n    \"song\": \"Nobody Puts Baby In The Corner\",\n    \"status\": 200,\n    \"ts\": 1541109125796,\n    \"userAgent\": \"\\\"Mozilla\\/5.0 (X11; Linux x86_64) AppleWebKit\\/537.36 (KHTML, like Gecko) Ubuntu Chromium\\/36.0.1985.125 Chrome\\/36.0.1985.125 Safari\\/537.36\\\"\",\n    \"userId\": \"26\"\n}\n{\n    \"artist\": \"M.I.A.\",\n    \"auth\": \"Logged In\",\n    \"firstName\": \"Ryan\",\n    \"gender\": \"M\",\n    \"itemInSession\": 2,\n    \"lastName\": \"Smith\",\n    \"length\": 233.7171,\n    \"level\": \"free\",\n    \"location\": \"San Jose-Sunnyvale-Santa Clara, CA\",\n    \"method\": \"PUT\",\n    \"page\": \"NextSong\",\n    \"registration\": 1541016707796.0,\n    \"sessionId\": 169,\n    \"song\": \"Mango Pickle Down River (With The Wilcannia Mob)\",\n    \"status\": 200,\n    \"ts\": 1541109325796,\n    \"userAgent\": \"\\\"Mozilla\\/5.0 (X11; Linux x86_64) AppleWebKit\\/537.36 (KHTML, like Gecko) Ubuntu Chromium\\/36.0.1985.125 Chrome\\/36.0.1985.125 Safari\\/537.36\\\"\",\n    \"userId\": \"26\"\n}\n{\n    \"artist\": \"Survivor\",\n    \"auth\": \"Logged In\",\n    \"firstName\": \"Jayden\",\n    \"gender\": \"M\",\n    \"itemInSession\": 0,\n    \"lastName\": \"Fox\",\n    \"length\": 245.36771,\n    \"level\": \"free\",\n    \"location\": \"New Orleans-Metairie, LA\",\n    \"method\": \"PUT\",\n    \"page\": \"NextSong\",\n    \"registration\": 1541033612796.0,\n    \"sessionId\": 100,\n    \"song\": \"Eye Of The Tiger\",\n    \"status\": 200,\n    \"ts\": 1541110994796,\n    \"userAgent\": \"\\\"Mozilla\\/5.0 (Windows NT 6.3; WOW64) AppleWebKit\\/537.36 (KHTML, like Gecko) Chrome\\/36.0.1985.143 Safari\\/537.36\\\"\",\n    \"userId\": \"101\"\n}\n"
     ]
    }
   ],
   "source": [
    "with open(filepath,'r') as l:\n",
    "    first_log = l.read()\n",
    "    \n",
    "    print(type(first_log))\n",
    "    print(first_log)\n",
    "\n",
    "#!!! Not sure how to convert this string from file read into a DataFram as json.read() won't work due to having multiple records... I either need to break up each record somehow OR find another method\n",
    "\n",
    "#------\n",
    "# df = \n",
    "# df.head()\n",
    "#------"
   ]
  },
  {
   "cell_type": "markdown",
   "metadata": {
    "editable": true
   },
   "source": [
    "## #3: `time` Table\n",
    "#### Extract Data for Time Table\n",
    "- Filter records by `NextSong` action\n",
    "- Convert the `ts` timestamp column to datetime\n",
    "  - Hint: the current timestamp is in milliseconds\n",
    "- Extract the timestamp, hour, day, week of year, month, year, and weekday from the `ts` column and set `time_data` to a list containing these values in order\n",
    "  - Hint: use pandas' [`dt` attribute](https://pandas.pydata.org/pandas-docs/stable/reference/api/pandas.Series.dt.html) to access easily datetimelike properties.\n",
    "- Specify labels for these columns and set to `column_labels`\n",
    "- Create a dataframe, `time_df,` containing the time data for this file by combining `column_labels` and `time_data` into a dictionary and converting this into a dataframe"
   ]
  },
  {
   "cell_type": "code",
   "execution_count": null,
   "metadata": {
    "editable": true
   },
   "outputs": [],
   "source": [
    "df = \n",
    "df.head()"
   ]
  },
  {
   "cell_type": "code",
   "execution_count": null,
   "metadata": {
    "editable": true
   },
   "outputs": [],
   "source": [
    "t = \n",
    "t.head()"
   ]
  },
  {
   "cell_type": "code",
   "execution_count": null,
   "metadata": {
    "editable": true
   },
   "outputs": [],
   "source": [
    "time_data = ()\n",
    "column_labels = ()"
   ]
  },
  {
   "cell_type": "code",
   "execution_count": null,
   "metadata": {
    "editable": true
   },
   "outputs": [],
   "source": [
    "time_df = \n",
    "time_df.head()"
   ]
  },
  {
   "cell_type": "markdown",
   "metadata": {
    "editable": true
   },
   "source": [
    "#### Insert Records into Time Table\n",
    "Implement the `time_table_insert` query in `sql_queries.py` and run the cell below to insert records for the timestamps in this log file into the `time` table. Remember to run `create_tables.py` before running the cell below to ensure you've created/resetted the `time` table in the sparkify database."
   ]
  },
  {
   "cell_type": "code",
   "execution_count": null,
   "metadata": {
    "editable": true
   },
   "outputs": [],
   "source": [
    "for i, row in time_df.iterrows():\n",
    "    cur.execute(time_table_insert, list(row))\n",
    "    conn.commit()"
   ]
  },
  {
   "cell_type": "markdown",
   "metadata": {
    "editable": true
   },
   "source": [
    "Run `test.ipynb` to see if you've successfully added records to this table."
   ]
  },
  {
   "cell_type": "markdown",
   "metadata": {
    "editable": true
   },
   "source": [
    "## #4: `users` Table\n",
    "#### Extract Data for Users Table\n",
    "- Select columns for user ID, first name, last name, gender and level and set to `user_df`"
   ]
  },
  {
   "cell_type": "code",
   "execution_count": null,
   "metadata": {
    "editable": true
   },
   "outputs": [],
   "source": [
    "user_df = "
   ]
  },
  {
   "cell_type": "markdown",
   "metadata": {
    "editable": true
   },
   "source": [
    "#### Insert Records into Users Table\n",
    "Implement the `user_table_insert` query in `sql_queries.py` and run the cell below to insert records for the users in this log file into the `users` table. Remember to run `create_tables.py` before running the cell below to ensure you've created/resetted the `users` table in the sparkify database."
   ]
  },
  {
   "cell_type": "code",
   "execution_count": null,
   "metadata": {
    "editable": true
   },
   "outputs": [],
   "source": [
    "for i, row in user_df.iterrows():\n",
    "    cur.execute(user_table_insert, row)\n",
    "    conn.commit()"
   ]
  },
  {
   "cell_type": "markdown",
   "metadata": {
    "editable": true
   },
   "source": [
    "Run `test.ipynb` to see if you've successfully added records to this table."
   ]
  },
  {
   "cell_type": "markdown",
   "metadata": {
    "editable": true
   },
   "source": [
    "## #5: `songplays` Table\n",
    "#### Extract Data and Songplays Table\n",
    "This one is a little more complicated since information from the songs table, artists table, and original log file are all needed for the `songplays` table. Since the log file does not specify an ID for either the song or the artist, you'll need to get the song ID and artist ID by querying the songs and artists tables to find matches based on song title, artist name, and song duration time.\n",
    "- Implement the `song_select` query in `sql_queries.py` to find the song ID and artist ID based on the title, artist name, and duration of a song.\n",
    "- Select the timestamp, user ID, level, song ID, artist ID, session ID, location, and user agent and set to `songplay_data`\n",
    "\n",
    "#### Insert Records into Songplays Table\n",
    "- Implement the `songplay_table_insert` query and run the cell below to insert records for the songplay actions in this log file into the `songplays` table. Remember to run `create_tables.py` before running the cell below to ensure you've created/resetted the `songplays` table in the sparkify database."
   ]
  },
  {
   "cell_type": "code",
   "execution_count": null,
   "metadata": {
    "editable": true
   },
   "outputs": [],
   "source": [
    "for index, row in df.iterrows():\n",
    "\n",
    "    # get songid and artistid from song and artist tables\n",
    "    cur.execute(song_select, (row.song, row.artist, row.length))\n",
    "    results = cur.fetchone()\n",
    "    \n",
    "    if results:\n",
    "        songid, artistid = results\n",
    "    else:\n",
    "        songid, artistid = None, None\n",
    "\n",
    "    # insert songplay record\n",
    "    songplay_data = ()\n",
    "    cur.execute(songplay_table_insert, songplay_data)\n",
    "    conn.commit()"
   ]
  },
  {
   "cell_type": "markdown",
   "metadata": {
    "editable": true
   },
   "source": [
    "Run `test.ipynb` to see if you've successfully added records to this table."
   ]
  },
  {
   "cell_type": "markdown",
   "metadata": {
    "editable": true
   },
   "source": [
    "# Close Connection to Sparkify Database"
   ]
  },
  {
   "cell_type": "code",
   "execution_count": null,
   "metadata": {
    "editable": true
   },
   "outputs": [],
   "source": [
    "conn.close()"
   ]
  },
  {
   "cell_type": "markdown",
   "metadata": {
    "editable": true
   },
   "source": [
    "# Implement `etl.py`\n",
    "Use what you've completed in this notebook to implement `etl.py`."
   ]
  },
  {
   "cell_type": "code",
   "execution_count": null,
   "metadata": {
    "editable": true
   },
   "outputs": [],
   "source": []
  }
 ],
 "metadata": {
  "kernelspec": {
   "display_name": "Python 3",
   "language": "python",
   "name": "python3"
  },
  "language_info": {
   "codemirror_mode": {
    "name": "ipython",
    "version": 3
   },
   "file_extension": ".py",
   "mimetype": "text/x-python",
   "name": "python",
   "nbconvert_exporter": "python",
   "pygments_lexer": "ipython3",
   "version": "3.8.5-final"
  }
 },
 "nbformat": 4,
 "nbformat_minor": 4
}